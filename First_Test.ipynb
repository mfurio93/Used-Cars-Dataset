{
  "cells": [
    {
      "cell_type": "markdown",
      "source": [
        "[![Open in Colab](https://colab.research.google.com/assets/colab-badge.svg)](https://colab.research.google.com/github/mfurio93/Used-Cars-Dataset/blob/main/First%20Test.ipynb)"
      ],
      "metadata": {
        "id": "2AplyLXEobPv"
      },
      "id": "2AplyLXEobPv"
    },
    {
      "cell_type": "code",
      "execution_count": null,
      "id": "1c2aa2fd",
      "metadata": {
        "id": "1c2aa2fd",
        "outputId": "01abbf05-8471-483a-bb83-c312ad177098"
      },
      "outputs": [
        {
          "name": "stdout",
          "output_type": "stream",
          "text": [
            "First Test\n",
            "4\n"
          ]
        }
      ],
      "source": [
        "def Notebook():\n",
        "    print(\"First Test\")\n",
        "    print(2+2)\n",
        "Notebook()"
      ]
    }
  ],
  "metadata": {
    "kernelspec": {
      "display_name": "Python 3 (ipykernel)",
      "language": "python",
      "name": "python3"
    },
    "language_info": {
      "codemirror_mode": {
        "name": "ipython",
        "version": 3
      },
      "file_extension": ".py",
      "mimetype": "text/x-python",
      "name": "python",
      "nbconvert_exporter": "python",
      "pygments_lexer": "ipython3",
      "version": "3.9.12"
    },
    "colab": {
      "name": "First Test.ipynb",
      "provenance": []
    }
  },
  "nbformat": 4,
  "nbformat_minor": 5
}