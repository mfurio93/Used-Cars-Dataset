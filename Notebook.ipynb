{
  "cells": [
    {
      "cell_type": "markdown",
      "source": [
        "[![Open in Colab](https://colab.research.google.com/assets/colab-badge.svg)](https://colab.research.google.com/github/mfurio93/Used-Cars-Dataset/blob/main/Notebook.ipynb)"
      ],
      "metadata": {
        "id": "2AplyLXEobPv"
      },
      "id": "2AplyLXEobPv"
    },
    {
      "cell_type": "markdown",
      "source": [
        "# File importation and pre-cleaning\n",
        "\n",
        "We now import the .csv file obtained from https://www.kaggle.com/datasets/austinreese/craigslist-carstrucks-data.\n",
        "\n",
        "It contains all relevant information that Craigslist provides on car sales including columns like price, condition, manufacturer, title status, and 18 other categories.\n",
        "\n",
        "Due to size constraints, several columns were deleted using Excel. Thanks to this the .csv jumps from 1.34 GB to 41MB in size.\n",
        "\n",
        "Pandas informs us that we're working with a pretty large dataset of 426880 entries."
      ],
      "metadata": {
        "id": "uaijpWkf099J"
      },
      "id": "uaijpWkf099J"
    },
    {
      "cell_type": "code",
      "source": [
        "import pandas as pd\n",
        "pd.set_option('display.float_format', lambda x: '%.0f' % x)\n",
        "df = pd.read_csv(\"train.csv\")\n",
        "print (df.shape)"
      ],
      "metadata": {
        "id": "lG422sOovMH7",
        "outputId": "87a183a4-54b8-4282-e66f-ef2bff19f931",
        "colab": {
          "base_uri": "https://localhost:8080/"
        }
      },
      "id": "lG422sOovMH7",
      "execution_count": null,
      "outputs": [
        {
          "output_type": "stream",
          "name": "stdout",
          "text": [
            "(426880, 16)\n"
          ]
        }
      ]
    },
    {
      "cell_type": "markdown",
      "source": [
        "# Analysis of missing data\n",
        "\n",
        "Through the use of Pandas, we can see that there are columns with way too much missing data, so we'll delete those columns entirely.\n",
        "\n",
        "Additionally, the columns where there is a more despreciable amount of missing data will be kept, however, the rows with the missing data of these columns will also be deleted.\n",
        "\n",
        "Last but not least, we delete all duplicate entries within the dataframe."
      ],
      "metadata": {
        "id": "Zy2_ql2tGFGT"
      },
      "id": "Zy2_ql2tGFGT"
    },
    {
      "cell_type": "code",
      "source": [
        "df.isna().sum()"
      ],
      "metadata": {
        "id": "MiYerWGG19V5",
        "outputId": "15eced61-e84a-44c8-8764-7c40d8b4d4da",
        "colab": {
          "base_uri": "https://localhost:8080/"
        }
      },
      "id": "MiYerWGG19V5",
      "execution_count": null,
      "outputs": [
        {
          "output_type": "execute_result",
          "data": {
            "text/plain": [
              "region               0\n",
              "price                0\n",
              "year              1205\n",
              "manufacturer     17646\n",
              "model             5277\n",
              "condition       174104\n",
              "cylinders       177678\n",
              "fuel              3013\n",
              "odometer          4400\n",
              "title_status      8242\n",
              "transmission      2556\n",
              "drive           130567\n",
              "size            306361\n",
              "type             92858\n",
              "paint_color     130203\n",
              "state                0\n",
              "dtype: int64"
            ]
          },
          "metadata": {},
          "execution_count": 10
        }
      ]
    },
    {
      "cell_type": "code",
      "source": [
        "del df['condition']\n",
        "del df['cylinders']\n",
        "del df['drive']\n",
        "del df['size']\n",
        "del df['paint_color']\n",
        "del df['type']"
      ],
      "metadata": {
        "id": "WIavzFlN3G6O"
      },
      "id": "WIavzFlN3G6O",
      "execution_count": null,
      "outputs": []
    },
    {
      "cell_type": "code",
      "source": [
        "df.fillna(0, inplace=True)\n",
        "df.drop(df[(df['price'] == 0)].index, inplace=True)\n",
        "df.drop(df[(df['year'] == 0)].index, inplace=True)\n",
        "df.drop(df[(df['manufacturer'] == 0)].index, inplace=True)\n",
        "df.drop(df[(df['model'] == 0)].index, inplace=True)\n",
        "df.drop(df[(df['fuel'] == 0)].index, inplace=True)\n",
        "df.drop(df[(df['odometer'] == 0)].index, inplace=True)\n",
        "df.drop(df[(df['title_status'] == 0)].index, inplace=True)\n",
        "df.drop(df[(df['transmission'] == 0)].index, inplace=True)"
      ],
      "metadata": {
        "id": "SpxGM2lz67Dt"
      },
      "id": "SpxGM2lz67Dt",
      "execution_count": null,
      "outputs": []
    },
    {
      "cell_type": "code",
      "source": [
        "df.drop_duplicates(inplace=True)"
      ],
      "metadata": {
        "id": "U-Ph3hbQYieC"
      },
      "id": "U-Ph3hbQYieC",
      "execution_count": null,
      "outputs": []
    },
    {
      "cell_type": "markdown",
      "source": [
        "# Analysis of target variable\n",
        "\n",
        "Now we take a look at how our target variable behaves.\n",
        "\n",
        "Here we can appreciate several values that seem either off or excessive. To curb this effect, we'll delete all rows whose target variable value is outside of the \\$1000 (one thousand) to \\$100000 (one hundred thousand).\n",
        "\n",
        "After this cleaning process, we lost roughly 120000 entries, or about 30% of our dataset, however, we now have a completely filled and unique dataset."
      ],
      "metadata": {
        "id": "NEnO-TvdG5nN"
      },
      "id": "NEnO-TvdG5nN"
    },
    {
      "cell_type": "code",
      "source": [
        "df.price.describe()"
      ],
      "metadata": {
        "id": "f1J8d6_a4hNq",
        "outputId": "ef659865-4b47-4f31-e8c9-c19f48153c1e",
        "colab": {
          "base_uri": "https://localhost:8080/"
        }
      },
      "id": "f1J8d6_a4hNq",
      "execution_count": null,
      "outputs": [
        {
          "output_type": "execute_result",
          "data": {
            "text/plain": [
              "count       315296\n",
              "mean         76518\n",
              "std       12726399\n",
              "min              1\n",
              "25%           7500\n",
              "50%          15990\n",
              "75%          27990\n",
              "max     3736928711\n",
              "Name: price, dtype: float64"
            ]
          },
          "metadata": {},
          "execution_count": 14
        }
      ]
    },
    {
      "cell_type": "code",
      "source": [
        "df.drop(df[df['price'] > 100000].index, inplace=True)\n",
        "df.drop(df[df['price'] < 1000].index, inplace=True)\n",
        "df.price.describe()"
      ],
      "metadata": {
        "id": "E4vWWsId5Wqh",
        "outputId": "b72cea08-05e4-45c0-b921-4e5fc922942a",
        "colab": {
          "base_uri": "https://localhost:8080/"
        }
      },
      "id": "E4vWWsId5Wqh",
      "execution_count": null,
      "outputs": [
        {
          "output_type": "execute_result",
          "data": {
            "text/plain": [
              "count   307166\n",
              "mean     19492\n",
              "std      14165\n",
              "min       1000\n",
              "25%       7995\n",
              "50%      16495\n",
              "75%      28223\n",
              "max     100000\n",
              "Name: price, dtype: float64"
            ]
          },
          "metadata": {},
          "execution_count": 15
        }
      ]
    },
    {
      "cell_type": "code",
      "source": [
        "#from google.colab import files\n",
        "\n",
        "#df.to_csv('output.csv', encoding = 'utf-8-sig') \n",
        "#files.download('output.csv')"
      ],
      "metadata": {
        "colab": {
          "base_uri": "https://localhost:8080/",
          "height": 17
        },
        "id": "UOCpqnFsDUob",
        "outputId": "be1bed20-7d48-4cd4-eca5-ea57e5cf4e41"
      },
      "id": "UOCpqnFsDUob",
      "execution_count": null,
      "outputs": [
        {
          "output_type": "display_data",
          "data": {
            "text/plain": [
              "<IPython.core.display.Javascript object>"
            ],
            "application/javascript": [
              "\n",
              "    async function download(id, filename, size) {\n",
              "      if (!google.colab.kernel.accessAllowed) {\n",
              "        return;\n",
              "      }\n",
              "      const div = document.createElement('div');\n",
              "      const label = document.createElement('label');\n",
              "      label.textContent = `Downloading \"${filename}\": `;\n",
              "      div.appendChild(label);\n",
              "      const progress = document.createElement('progress');\n",
              "      progress.max = size;\n",
              "      div.appendChild(progress);\n",
              "      document.body.appendChild(div);\n",
              "\n",
              "      const buffers = [];\n",
              "      let downloaded = 0;\n",
              "\n",
              "      const channel = await google.colab.kernel.comms.open(id);\n",
              "      // Send a message to notify the kernel that we're ready.\n",
              "      channel.send({})\n",
              "\n",
              "      for await (const message of channel.messages) {\n",
              "        // Send a message to notify the kernel that we're ready.\n",
              "        channel.send({})\n",
              "        if (message.buffers) {\n",
              "          for (const buffer of message.buffers) {\n",
              "            buffers.push(buffer);\n",
              "            downloaded += buffer.byteLength;\n",
              "            progress.value = downloaded;\n",
              "          }\n",
              "        }\n",
              "      }\n",
              "      const blob = new Blob(buffers, {type: 'application/binary'});\n",
              "      const a = document.createElement('a');\n",
              "      a.href = window.URL.createObjectURL(blob);\n",
              "      a.download = filename;\n",
              "      div.appendChild(a);\n",
              "      a.click();\n",
              "      div.remove();\n",
              "    }\n",
              "  "
            ]
          },
          "metadata": {}
        },
        {
          "output_type": "display_data",
          "data": {
            "text/plain": [
              "<IPython.core.display.Javascript object>"
            ],
            "application/javascript": [
              "download(\"download_27f1d4af-a5e4-4c17-9799-c30a0f55df43\", \"output.csv\", 28850997)"
            ]
          },
          "metadata": {}
        }
      ]
    }
  ],
  "metadata": {
    "kernelspec": {
      "display_name": "Python 3 (ipykernel)",
      "language": "python",
      "name": "python3"
    },
    "language_info": {
      "codemirror_mode": {
        "name": "ipython",
        "version": 3
      },
      "file_extension": ".py",
      "mimetype": "text/x-python",
      "name": "python",
      "nbconvert_exporter": "python",
      "pygments_lexer": "ipython3",
      "version": "3.9.12"
    },
    "colab": {
      "name": "Notebook.ipynb",
      "provenance": []
    }
  },
  "nbformat": 4,
  "nbformat_minor": 5
}