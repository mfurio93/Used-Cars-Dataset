{
  "cells": [
    {
      "cell_type": "markdown",
      "source": [
        "[![Open in Colab](https://colab.research.google.com/assets/colab-badge.svg)](https://colab.research.google.com/github/mfurio93/Used-Cars-Dataset/blob/main/Notebook.ipynb)"
      ],
      "metadata": {
        "id": "2AplyLXEobPv"
      },
      "id": "2AplyLXEobPv"
    },
    {
      "cell_type": "code",
      "source": [
        "from pydrive.auth import GoogleAuth\n",
        "from google.colab import drive\n",
        "from pydrive.drive import GoogleDrive\n",
        "from google.colab import auth\n",
        "from oauth2client.client import GoogleCredentials"
      ],
      "metadata": {
        "id": "HrYl_sUudH3L"
      },
      "id": "HrYl_sUudH3L",
      "execution_count": 41,
      "outputs": []
    },
    {
      "cell_type": "markdown",
      "source": [
        "# File importation and cleaning\n",
        "\n",
        "We now import the .csv file obtained from https://www.kaggle.com/datasets/austinreese/craigslist-carstrucks-data.\n",
        "\n",
        "It contains all relevant information that Craigslist provides on car sales including columns like price, cylinders, manufacturer, latitude, and 21 other categories.\n",
        "\n",
        "Pandas informs us that we're working with a pretty large dataset of over 400000 entries.\n",
        "\n",
        "Note: due to the massive size of the file (over 1 GB), the next code block might take around 2 minutes to process."
      ],
      "metadata": {
        "id": "uaijpWkf099J"
      },
      "id": "uaijpWkf099J"
    },
    {
      "cell_type": "code",
      "source": [
        "auth.authenticate_user()\n",
        "gauth = GoogleAuth()\n",
        "gauth.credentials = GoogleCredentials.get_application_default()\n",
        "drive = GoogleDrive(gauth)\n",
        "\n",
        "file_id = '1Pt1akrURtchh4elqaWo4n_bskLI4nJme'\n",
        "download = drive.CreateFile({'id':file_id})\n",
        "download.GetContentFile('file.csv')\n",
        "\n",
        "import pandas as pd\n",
        "df = pd.read_csv(\"file.csv\")\n",
        "pd.set_option('display.float_format', lambda x: '%.0f' % x)\n",
        "df.shape"
      ],
      "metadata": {
        "id": "W9fjA3HbdIVO",
        "outputId": "90802282-53ef-4309-8281-50991beb1465",
        "colab": {
          "base_uri": "https://localhost:8080/"
        }
      },
      "id": "W9fjA3HbdIVO",
      "execution_count": 42,
      "outputs": [
        {
          "output_type": "execute_result",
          "data": {
            "text/plain": [
              "(426880, 26)"
            ]
          },
          "metadata": {},
          "execution_count": 42
        }
      ]
    },
    {
      "cell_type": "markdown",
      "source": [
        "# Analysis of missing data\n",
        "\n",
        "Through the use of Pandas, we can see that there are columns with way too much missing data, so we'll delete those columns entirely. Others, such as latitude or longitude, are likely not useful for our models.\n",
        "\n",
        "Additionally, the columns where there is a more despreciable amount of missing data will be kept, however, the rows with the missing data of these columns will also be deleted.\n",
        "\n",
        "Last but not least, we delete all duplicate entries within the dataframe."
      ],
      "metadata": {
        "id": "Zy2_ql2tGFGT"
      },
      "id": "Zy2_ql2tGFGT"
    },
    {
      "cell_type": "code",
      "source": [
        "df.isna().sum()"
      ],
      "metadata": {
        "id": "MiYerWGG19V5",
        "outputId": "7ad7d8ab-f373-45d8-b917-a142ababe931",
        "colab": {
          "base_uri": "https://localhost:8080/"
        }
      },
      "id": "MiYerWGG19V5",
      "execution_count": 43,
      "outputs": [
        {
          "output_type": "execute_result",
          "data": {
            "text/plain": [
              "id                   0\n",
              "url                  0\n",
              "region               0\n",
              "region_url           0\n",
              "price                0\n",
              "year              1205\n",
              "manufacturer     17646\n",
              "model             5277\n",
              "condition       174104\n",
              "cylinders       177678\n",
              "fuel              3013\n",
              "odometer          4400\n",
              "title_status      8242\n",
              "transmission      2556\n",
              "VIN             161042\n",
              "drive           130567\n",
              "size            306361\n",
              "type             92858\n",
              "paint_color     130203\n",
              "image_url           68\n",
              "description         70\n",
              "county          426880\n",
              "state                0\n",
              "lat               6549\n",
              "long              6549\n",
              "posting_date        68\n",
              "dtype: int64"
            ]
          },
          "metadata": {},
          "execution_count": 43
        }
      ]
    },
    {
      "cell_type": "code",
      "source": [
        "#Likely not useful columns\n",
        "del df['id']\n",
        "del df['url']\n",
        "del df['region_url']\n",
        "del df['VIN']\n",
        "del df['image_url']\n",
        "del df['description']\n",
        "del df['county']\n",
        "del df['lat']\n",
        "del df['long']\n",
        "del df['posting_date']"
      ],
      "metadata": {
        "id": "bfdnCwMPjVsX"
      },
      "id": "bfdnCwMPjVsX",
      "execution_count": 44,
      "outputs": []
    },
    {
      "cell_type": "code",
      "source": [
        "#Columns with too much missing data\n",
        "del df['condition']\n",
        "del df['cylinders']\n",
        "del df['drive']\n",
        "del df['size']\n",
        "del df['paint_color']\n",
        "del df['type']"
      ],
      "metadata": {
        "id": "WIavzFlN3G6O"
      },
      "id": "WIavzFlN3G6O",
      "execution_count": 45,
      "outputs": []
    },
    {
      "cell_type": "code",
      "source": [
        "#Rows with too much missing data\n",
        "df.fillna(0, inplace=True)\n",
        "df.drop(df[(df['price'] == 0)].index, inplace=True)\n",
        "df.drop(df[(df['year'] == 0)].index, inplace=True)\n",
        "df.drop(df[(df['manufacturer'] == 0)].index, inplace=True)\n",
        "df.drop(df[(df['model'] == 0)].index, inplace=True)\n",
        "df.drop(df[(df['fuel'] == 0)].index, inplace=True)\n",
        "df.drop(df[(df['odometer'] == 0)].index, inplace=True)\n",
        "df.drop(df[(df['title_status'] == 0)].index, inplace=True)\n",
        "df.drop(df[(df['transmission'] == 0)].index, inplace=True)"
      ],
      "metadata": {
        "id": "SpxGM2lz67Dt"
      },
      "id": "SpxGM2lz67Dt",
      "execution_count": 46,
      "outputs": []
    },
    {
      "cell_type": "code",
      "source": [
        "#Dropping duplicates\n",
        "df.drop_duplicates(inplace=True)"
      ],
      "metadata": {
        "id": "U-Ph3hbQYieC"
      },
      "id": "U-Ph3hbQYieC",
      "execution_count": 47,
      "outputs": []
    },
    {
      "cell_type": "markdown",
      "source": [
        "# Analysis of target variable\n",
        "\n",
        "Now we take a look at how our target variable behaves.\n",
        "\n",
        "Here we can appreciate several values that seem either off or excessive. To curb this effect, we'll delete all rows whose target variable value is outside of the \\$1000 (one thousand) to \\$100000 (one hundred thousand).\n",
        "\n",
        "After this cleaning process, we lost roughly 120000 entries, or about 30% of our dataset, however, we now have a completely filled and unique dataset."
      ],
      "metadata": {
        "id": "NEnO-TvdG5nN"
      },
      "id": "NEnO-TvdG5nN"
    },
    {
      "cell_type": "code",
      "source": [
        "df.price.describe()"
      ],
      "metadata": {
        "id": "f1J8d6_a4hNq",
        "outputId": "e245ec36-3b3b-490f-8fb4-3cb28f4d25cc",
        "colab": {
          "base_uri": "https://localhost:8080/"
        }
      },
      "id": "f1J8d6_a4hNq",
      "execution_count": 48,
      "outputs": [
        {
          "output_type": "execute_result",
          "data": {
            "text/plain": [
              "count       315296\n",
              "mean         76518\n",
              "std       12726399\n",
              "min              1\n",
              "25%           7500\n",
              "50%          15990\n",
              "75%          27990\n",
              "max     3736928711\n",
              "Name: price, dtype: float64"
            ]
          },
          "metadata": {},
          "execution_count": 48
        }
      ]
    },
    {
      "cell_type": "code",
      "source": [
        "df.drop(df[df['price'] > 100000].index, inplace=True)\n",
        "df.drop(df[df['price'] < 1000].index, inplace=True)\n",
        "df.price.describe()"
      ],
      "metadata": {
        "id": "E4vWWsId5Wqh",
        "outputId": "7c7326c8-040a-4679-8660-0d9ba608f5ee",
        "colab": {
          "base_uri": "https://localhost:8080/"
        }
      },
      "id": "E4vWWsId5Wqh",
      "execution_count": 49,
      "outputs": [
        {
          "output_type": "execute_result",
          "data": {
            "text/plain": [
              "count   307166\n",
              "mean     19492\n",
              "std      14165\n",
              "min       1000\n",
              "25%       7995\n",
              "50%      16495\n",
              "75%      28223\n",
              "max     100000\n",
              "Name: price, dtype: float64"
            ]
          },
          "metadata": {},
          "execution_count": 49
        }
      ]
    },
    {
      "cell_type": "markdown",
      "source": [
        "# Model Creation\n",
        "\n",
        "..."
      ],
      "metadata": {
        "id": "B0i5mSPjlsdb"
      },
      "id": "B0i5mSPjlsdb"
    }
  ],
  "metadata": {
    "kernelspec": {
      "display_name": "Python 3 (ipykernel)",
      "language": "python",
      "name": "python3"
    },
    "language_info": {
      "codemirror_mode": {
        "name": "ipython",
        "version": 3
      },
      "file_extension": ".py",
      "mimetype": "text/x-python",
      "name": "python",
      "nbconvert_exporter": "python",
      "pygments_lexer": "ipython3",
      "version": "3.9.12"
    },
    "colab": {
      "name": "Notebook.ipynb",
      "provenance": []
    }
  },
  "nbformat": 4,
  "nbformat_minor": 5
}