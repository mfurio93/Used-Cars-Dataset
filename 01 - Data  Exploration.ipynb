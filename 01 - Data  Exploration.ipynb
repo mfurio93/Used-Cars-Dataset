{
  "cells": [
    {
      "cell_type": "markdown",
      "source": [
        "[![Open in Colab](https://colab.research.google.com/assets/colab-badge.svg)](https://colab.research.google.com/github/mfurio93/Used-Cars-Dataset/blob/main/01%20-%20Data%20%20Exploration.ipynb)"
      ],
      "metadata": {
        "id": "2AplyLXEobPv"
      },
      "id": "2AplyLXEobPv"
    },
    {
      "cell_type": "code",
      "source": [
        "from pydrive.auth import GoogleAuth\n",
        "from google.colab import drive\n",
        "from pydrive.drive import GoogleDrive\n",
        "from google.colab import auth\n",
        "from oauth2client.client import GoogleCredentials"
      ],
      "metadata": {
        "id": "HrYl_sUudH3L"
      },
      "id": "HrYl_sUudH3L",
      "execution_count": 4,
      "outputs": []
    },
    {
      "cell_type": "markdown",
      "source": [
        "# File importation and cleaning\n",
        "\n",
        "We now import the .csv file obtained from https://www.kaggle.com/datasets/austinreese/craigslist-carstrucks-data.\n",
        "\n",
        "It contains all relevant information that Craigslist provides on car sales including columns like price, cylinders, manufacturer, latitude, and 21 other categories.\n",
        "\n",
        "Pandas informs us that we're working with a pretty large dataset of over 400000 entries.\n",
        "\n",
        "Note: due to the massive size of the file (over 1 GB), the next code block might take around 2 minutes to process."
      ],
      "metadata": {
        "id": "uaijpWkf099J"
      },
      "id": "uaijpWkf099J"
    },
    {
      "cell_type": "code",
      "source": [
        "auth.authenticate_user()\n",
        "gauth = GoogleAuth()\n",
        "gauth.credentials = GoogleCredentials.get_application_default()\n",
        "drive = GoogleDrive(gauth)\n",
        "\n",
        "file_id = '1Pt1akrURtchh4elqaWo4n_bskLI4nJme'\n",
        "download = drive.CreateFile({'id':file_id})\n",
        "download.GetContentFile('file.csv')\n",
        "\n",
        "import pandas as pd\n",
        "import numpy as np\n",
        "df = pd.read_csv(\"file.csv\")\n",
        "pd.set_option('display.float_format', lambda x: '%.0f' % x)\n",
        "df.shape"
      ],
      "metadata": {
        "id": "W9fjA3HbdIVO",
        "outputId": "7fa619d3-c001-43f4-e181-c8764c1bf54d",
        "colab": {
          "base_uri": "https://localhost:8080/"
        }
      },
      "id": "W9fjA3HbdIVO",
      "execution_count": 3,
      "outputs": [
        {
          "output_type": "execute_result",
          "data": {
            "text/plain": [
              "(426880, 26)"
            ]
          },
          "metadata": {},
          "execution_count": 3
        }
      ]
    },
    {
      "cell_type": "markdown",
      "source": [
        "# Analysis of missing data\n",
        "\n",
        "Through the use of Pandas, we can see that there are columns with way too much missing data, so we'll delete those columns entirely. Others, such as latitude or longitude, are likely not useful for our models.\n",
        "\n",
        "Additionally, the columns where there is a more despreciable amount of missing data will be kept, however, the rows with the missing data of these columns will also be deleted.\n",
        "\n",
        "As a complementary step, we delete all duplicate entries within the dataframe.\n",
        "\n",
        "Finally, we look at the unique values found within some columns, and decide to delete rows with questionable contents, such as \"parts only\" under \"title_status\" since we no longer have information on what parts are being sold. We also removed all cars before 1970 as (upon inspection of the .csv), there were not enough of them to create a trustable model."
      ],
      "metadata": {
        "id": "Zy2_ql2tGFGT"
      },
      "id": "Zy2_ql2tGFGT"
    },
    {
      "cell_type": "code",
      "source": [
        "#Checking amount of NaN values per column\n",
        "df.isna().sum()"
      ],
      "metadata": {
        "id": "MiYerWGG19V5",
        "outputId": "eb08c25e-b669-4819-c99f-9fb05f635cfa",
        "colab": {
          "base_uri": "https://localhost:8080/"
        }
      },
      "id": "MiYerWGG19V5",
      "execution_count": 5,
      "outputs": [
        {
          "output_type": "execute_result",
          "data": {
            "text/plain": [
              "id                   0\n",
              "url                  0\n",
              "region               0\n",
              "region_url           0\n",
              "price                0\n",
              "year              1205\n",
              "manufacturer     17646\n",
              "model             5277\n",
              "condition       174104\n",
              "cylinders       177678\n",
              "fuel              3013\n",
              "odometer          4400\n",
              "title_status      8242\n",
              "transmission      2556\n",
              "VIN             161042\n",
              "drive           130567\n",
              "size            306361\n",
              "type             92858\n",
              "paint_color     130203\n",
              "image_url           68\n",
              "description         70\n",
              "county          426880\n",
              "state                0\n",
              "lat               6549\n",
              "long              6549\n",
              "posting_date        68\n",
              "dtype: int64"
            ]
          },
          "metadata": {},
          "execution_count": 5
        }
      ]
    },
    {
      "cell_type": "code",
      "source": [
        "#Likely not useful columns\n",
        "del df['id']\n",
        "del df['url']\n",
        "del df['region_url']\n",
        "del df['VIN']\n",
        "del df['image_url']\n",
        "del df['description']\n",
        "del df['county']\n",
        "del df['lat']\n",
        "del df['long']\n",
        "del df['posting_date']"
      ],
      "metadata": {
        "id": "bfdnCwMPjVsX"
      },
      "id": "bfdnCwMPjVsX",
      "execution_count": 6,
      "outputs": []
    },
    {
      "cell_type": "code",
      "source": [
        "#Columns with too much missing data\n",
        "del df['condition']\n",
        "del df['cylinders']\n",
        "del df['drive']\n",
        "del df['size']\n",
        "del df['paint_color']\n",
        "del df['type']"
      ],
      "metadata": {
        "id": "WIavzFlN3G6O"
      },
      "id": "WIavzFlN3G6O",
      "execution_count": 7,
      "outputs": []
    },
    {
      "cell_type": "code",
      "source": [
        "#Rows with too much missing data\n",
        "df.fillna(0, inplace=True)\n",
        "df.drop(df[(df['price'] == 0)].index, inplace=True)\n",
        "df.drop(df[(df['year'] == 0)].index, inplace=True)\n",
        "df.drop(df[(df['manufacturer'] == 0)].index, inplace=True)\n",
        "df.drop(df[(df['model'] == 0)].index, inplace=True)\n",
        "df.drop(df[(df['fuel'] == 0)].index, inplace=True)\n",
        "df.drop(df[(df['odometer'] == 0)].index, inplace=True)\n",
        "df.drop(df[(df['title_status'] == 0)].index, inplace=True)\n",
        "df.drop(df[(df['transmission'] == 0)].index, inplace=True)"
      ],
      "metadata": {
        "id": "SpxGM2lz67Dt"
      },
      "id": "SpxGM2lz67Dt",
      "execution_count": 8,
      "outputs": []
    },
    {
      "cell_type": "code",
      "source": [
        "#Dropping duplicates\n",
        "df.drop_duplicates(inplace=True)"
      ],
      "metadata": {
        "id": "U-Ph3hbQYieC"
      },
      "id": "U-Ph3hbQYieC",
      "execution_count": 9,
      "outputs": []
    },
    {
      "cell_type": "code",
      "source": [
        "#Looking at unique values within certain columns\n",
        "print(np.unique(df[\"year\"]))\n",
        "print(np.unique(df[\"manufacturer\"]))\n",
        "print(np.unique(df[\"fuel\"]))\n",
        "print(np.unique(df[\"title_status\"]))\n",
        "print(np.unique(df[\"transmission\"]))"
      ],
      "metadata": {
        "colab": {
          "base_uri": "https://localhost:8080/"
        },
        "id": "MaTDi4B12ZyX",
        "outputId": "9d2ca674-b89b-4f20-882a-53a875a2a447"
      },
      "id": "MaTDi4B12ZyX",
      "execution_count": 15,
      "outputs": [
        {
          "output_type": "stream",
          "name": "stdout",
          "text": [
            "[1900. 1905. 1913. 1915. 1918. 1921. 1922. 1923. 1924. 1925. 1926. 1927.\n",
            " 1928. 1929. 1930. 1931. 1932. 1933. 1934. 1935. 1936. 1937. 1938. 1939.\n",
            " 1940. 1941. 1942. 1943. 1944. 1945. 1946. 1947. 1948. 1949. 1950. 1951.\n",
            " 1952. 1953. 1954. 1955. 1956. 1957. 1958. 1959. 1960. 1961. 1962. 1963.\n",
            " 1964. 1965. 1966. 1967. 1968. 1969. 1970. 1971. 1972. 1973. 1974. 1975.\n",
            " 1976. 1977. 1978. 1979. 1980. 1981. 1982. 1983. 1984. 1985. 1986. 1987.\n",
            " 1988. 1989. 1990. 1991. 1992. 1993. 1994. 1995. 1996. 1997. 1998. 1999.\n",
            " 2000. 2001. 2002. 2003. 2004. 2005. 2006. 2007. 2008. 2009. 2010. 2011.\n",
            " 2012. 2013. 2014. 2015. 2016. 2017. 2018. 2019. 2020. 2021. 2022.]\n",
            "['acura' 'alfa-romeo' 'aston-martin' 'audi' 'bmw' 'buick' 'cadillac'\n",
            " 'chevrolet' 'chrysler' 'datsun' 'dodge' 'ferrari' 'fiat' 'ford' 'gmc'\n",
            " 'harley-davidson' 'honda' 'hyundai' 'infiniti' 'jaguar' 'jeep' 'kia'\n",
            " 'land rover' 'lexus' 'lincoln' 'mazda' 'mercedes-benz' 'mercury' 'mini'\n",
            " 'mitsubishi' 'nissan' 'pontiac' 'porsche' 'ram' 'rover' 'saturn' 'subaru'\n",
            " 'tesla' 'toyota' 'volkswagen' 'volvo']\n",
            "['diesel' 'electric' 'gas' 'hybrid' 'other']\n",
            "['clean' 'lien' 'missing' 'parts only' 'rebuilt' 'salvage']\n",
            "['automatic' 'manual' 'other']\n"
          ]
        }
      ]
    },
    {
      "cell_type": "code",
      "source": [
        "#Dropping certain rows according to our criteria\n",
        "df.drop(df[df['year'] < 1970].index, inplace=True)\n",
        "df.drop(df[df['fuel'] == \"other\"].index, inplace=True)\n",
        "df.drop(df[df['title_status'] == \"parts only\"].index, inplace=True)\n",
        "df.drop(df[df['title_status'] == \"salvage\"].index, inplace=True)"
      ],
      "metadata": {
        "id": "tTh89ECKlYuM"
      },
      "id": "tTh89ECKlYuM",
      "execution_count": 17,
      "outputs": []
    },
    {
      "cell_type": "markdown",
      "source": [
        "# Analysis of target variable\n",
        "\n",
        "Now we take a look at how our target variable behaves.\n",
        "\n",
        "Here we can appreciate several values that seem either off or excessive. To curb this effect, we'll delete all rows whose target variable value is outside of the \\$1000 (one thousand) to \\$100000 (one hundred thousand).\n",
        "\n",
        "After this cleaning process, we lost roughly 120000 entries, or about 30% of our dataset, however, we now have a completely filled and unique dataset."
      ],
      "metadata": {
        "id": "NEnO-TvdG5nN"
      },
      "id": "NEnO-TvdG5nN"
    },
    {
      "cell_type": "code",
      "source": [
        "df.price.describe()"
      ],
      "metadata": {
        "id": "f1J8d6_a4hNq",
        "outputId": "a6a3abdb-2a90-4e63-b2c5-fc9ff9a7b5fd",
        "colab": {
          "base_uri": "https://localhost:8080/"
        }
      },
      "id": "f1J8d6_a4hNq",
      "execution_count": 19,
      "outputs": [
        {
          "output_type": "execute_result",
          "data": {
            "text/plain": [
              "count   277044\n",
              "mean     18832\n",
              "std      14121\n",
              "min       1000\n",
              "25%       7500\n",
              "50%      15293\n",
              "75%      26999\n",
              "max     100000\n",
              "Name: price, dtype: float64"
            ]
          },
          "metadata": {},
          "execution_count": 19
        }
      ]
    },
    {
      "cell_type": "code",
      "source": [
        "df.drop(df[df['price'] > 100000].index, inplace=True)\n",
        "df.drop(df[df['price'] < 1000].index, inplace=True)\n",
        "df.price.describe()"
      ],
      "metadata": {
        "id": "E4vWWsId5Wqh",
        "outputId": "b9a4b143-5d64-42ed-f862-ff3302f1b7e5",
        "colab": {
          "base_uri": "https://localhost:8080/"
        }
      },
      "id": "E4vWWsId5Wqh",
      "execution_count": 20,
      "outputs": [
        {
          "output_type": "execute_result",
          "data": {
            "text/plain": [
              "count   277044\n",
              "mean     18832\n",
              "std      14121\n",
              "min       1000\n",
              "25%       7500\n",
              "50%      15293\n",
              "75%      26999\n",
              "max     100000\n",
              "Name: price, dtype: float64"
            ]
          },
          "metadata": {},
          "execution_count": 20
        }
      ]
    },
    {
      "cell_type": "markdown",
      "source": [
        "# Correlation matrix between numerical columns\n",
        "\n",
        "We run a little correlation test between the numerical values of our dataset.\n",
        "\n",
        "We find that the year of manufacture is strongly correlated to our target variable while the odometer is not. Knowing this, it would be a good idea to remove the odometer column."
      ],
      "metadata": {
        "id": "B0i5mSPjlsdb"
      },
      "id": "B0i5mSPjlsdb"
    },
    {
      "cell_type": "code",
      "source": [
        "import seaborn as sns\n",
        "import matplotlib.pyplot as plt\n",
        "import missingno as msno\n",
        "from sklearn.linear_model import LinearRegression\n",
        "from sklearn.tree import DecisionTreeRegressor\n",
        "from sklearn.ensemble import RandomForestRegressor\n",
        "from sklearn.model_selection import cross_validate, ShuffleSplit\n",
        "from sklearn.model_selection import learning_curve\n",
        "from sklearn.metrics import mean_squared_error\n",
        "from sklearn.impute import SimpleImputer\n",
        "from sklearn.preprocessing import OneHotEncoder\n",
        "from sklearn.preprocessing import FunctionTransformer\n",
        "from sklearn.pipeline import Pipeline\n",
        "from sklearn.compose import ColumnTransformer\n",
        "from sklearn.preprocessing import LabelEncoder\n",
        "from sklearn import utils\n",
        "from sklearn import preprocessing\n",
        "from sklearn.model_selection import train_test_split,KFold,GroupKFold\n",
        "import lightgbm as lgb\n",
        "import gc"
      ],
      "metadata": {
        "id": "mjmY9ihLS_Aq"
      },
      "id": "mjmY9ihLS_Aq",
      "execution_count": 21,
      "outputs": []
    },
    {
      "cell_type": "code",
      "source": [
        "corr_matrix = df.corr()"
      ],
      "metadata": {
        "id": "5K-szDeuSpUa"
      },
      "id": "5K-szDeuSpUa",
      "execution_count": 22,
      "outputs": []
    },
    {
      "cell_type": "code",
      "source": [
        "plt.figure(figsize=(5,5))\n",
        "sns.heatmap(corr_matrix, annot = True, vmin = -1, vmax = 1, cmap = \"YlGnBu\").set_title('Correlation Matrix')\n",
        "plt.show()"
      ],
      "metadata": {
        "colab": {
          "base_uri": "https://localhost:8080/",
          "height": 336
        },
        "id": "THGOKuCoStuJ",
        "outputId": "d393855b-e7c9-431b-e7c6-eec3d7b657d7"
      },
      "id": "THGOKuCoStuJ",
      "execution_count": 23,
      "outputs": [
        {
          "output_type": "display_data",
          "data": {
            "text/plain": [
              "<Figure size 360x360 with 2 Axes>"
            ],
            "image/png": "[encoded data removed]"
          },
          "metadata": {
            "needs_background": "light"
          }
        }
      ]
    },
    {
      "cell_type": "code",
      "source": [
        "del df['odometer']"
      ],
      "metadata": {
        "id": "RY9nhOiqvlet"
      },
      "id": "RY9nhOiqvlet",
      "execution_count": 25,
      "outputs": []
    }
  ],
  "metadata": {
    "kernelspec": {
      "display_name": "Python 3 (ipykernel)",
      "language": "python",
      "name": "python3"
    },
    "language_info": {
      "codemirror_mode": {
        "name": "ipython",
        "version": 3
      },
      "file_extension": ".py",
      "mimetype": "text/x-python",
      "name": "python",
      "nbconvert_exporter": "python",
      "pygments_lexer": "ipython3",
      "version": "3.9.12"
    },
    "colab": {
      "name": "01 - Data Exploration.ipynb",
      "provenance": []
    }
  },
  "nbformat": 4,
  "nbformat_minor": 5
}